{
  "nbformat": 4,
  "nbformat_minor": 0,
  "metadata": {
    "colab": {
      "provenance": []
    },
    "kernelspec": {
      "name": "python3",
      "display_name": "Python 3"
    },
    "language_info": {
      "name": "python"
    }
  },
  "cells": [
    {
      "cell_type": "code",
      "source": [
        "import polars as pl"
      ],
      "metadata": {
        "id": "h4xT5EhZbaKs"
      },
      "execution_count": null,
      "outputs": []
    },
    {
      "cell_type": "code",
      "source": [
        "df = pl.read_csv('ca-2022-02.csv', separator=';', try_parse_dates=True)"
      ],
      "metadata": {
        "id": "WQ4Sn5qmbfJu"
      },
      "execution_count": null,
      "outputs": []
    },
    {
      "cell_type": "code",
      "source": [
        "df.head()"
      ],
      "metadata": {
        "colab": {
          "base_uri": "https://localhost:8080/",
          "height": 359
        },
        "id": "JIKxiE8AbfkF",
        "outputId": "7e2a31f0-b5ff-463b-bd66-31fc596efc2a"
      },
      "execution_count": null,
      "outputs": [
        {
          "output_type": "execute_result",
          "data": {
            "text/plain": [
              "shape: (5, 16)\n",
              "┌────────────┬────────────┬─────────┬──────────┬───┬────────────┬────────────┬────────────┬────────┐\n",
              "│ Regiao -   ┆ Estado -   ┆ Municip ┆ Revenda  ┆ … ┆ Valor de   ┆ Valor de   ┆ Unidade de ┆ Bandei │\n",
              "│ Sigla      ┆ Sigla      ┆ io      ┆ ---      ┆   ┆ Venda      ┆ Compra     ┆ Medida     ┆ ra     │\n",
              "│ ---        ┆ ---        ┆ ---     ┆ str      ┆   ┆ ---        ┆ ---        ┆ ---        ┆ ---    │\n",
              "│ str        ┆ str        ┆ str     ┆          ┆   ┆ str        ┆ str        ┆ str        ┆ str    │\n",
              "╞════════════╪════════════╪═════════╪══════════╪═══╪════════════╪════════════╪════════════╪════════╡\n",
              "│ SE         ┆ ES         ┆ COLATIN ┆ SAO FRAN ┆ … ┆ 7,48       ┆ null       ┆ R$ / litro ┆ VIBRA  │\n",
              "│            ┆            ┆ A       ┆ CISCO DE ┆   ┆            ┆            ┆            ┆ ENERGI │\n",
              "│            ┆            ┆         ┆ ASSIS    ┆   ┆            ┆            ┆            ┆ A      │\n",
              "│            ┆            ┆         ┆ COMERCIO ┆   ┆            ┆            ┆            ┆        │\n",
              "│            ┆            ┆         ┆ …        ┆   ┆            ┆            ┆            ┆        │\n",
              "│ SE         ┆ ES         ┆ COLATIN ┆ SAO FRAN ┆ … ┆ 7,38       ┆ null       ┆ R$ / litro ┆ VIBRA  │\n",
              "│            ┆            ┆ A       ┆ CISCO DE ┆   ┆            ┆            ┆            ┆ ENERGI │\n",
              "│            ┆            ┆         ┆ ASSIS    ┆   ┆            ┆            ┆            ┆ A      │\n",
              "│            ┆            ┆         ┆ COMERCIO ┆   ┆            ┆            ┆            ┆        │\n",
              "│            ┆            ┆         ┆ …        ┆   ┆            ┆            ┆            ┆        │\n",
              "│ SE         ┆ ES         ┆ COLATIN ┆ POSTO    ┆ … ┆ 7,69       ┆ null       ┆ R$ / litro ┆ VIBRA  │\n",
              "│            ┆            ┆ A       ┆ MOTOCAP  ┆   ┆            ┆            ┆            ┆ ENERGI │\n",
              "│            ┆            ┆         ┆ LTDA     ┆   ┆            ┆            ┆            ┆ A      │\n",
              "│ SE         ┆ ES         ┆ COLATIN ┆ POSTO    ┆ … ┆ 5,99       ┆ null       ┆ R$ / litro ┆ VIBRA  │\n",
              "│            ┆            ┆ A       ┆ MOTOCAP  ┆   ┆            ┆            ┆            ┆ ENERGI │\n",
              "│            ┆            ┆         ┆ LTDA     ┆   ┆            ┆            ┆            ┆ A      │\n",
              "│ SE         ┆ ES         ┆ COLATIN ┆ POSTO    ┆ … ┆ 7,39       ┆ null       ┆ R$ / litro ┆ VIBRA  │\n",
              "│            ┆            ┆ A       ┆ MOTOCAP  ┆   ┆            ┆            ┆            ┆ ENERGI │\n",
              "│            ┆            ┆         ┆ LTDA     ┆   ┆            ┆            ┆            ┆ A      │\n",
              "└────────────┴────────────┴─────────┴──────────┴───┴────────────┴────────────┴────────────┴────────┘"
            ],
            "text/html": [
              "<div><style>\n",
              ".dataframe > thead > tr > th,\n",
              ".dataframe > tbody > tr > td {\n",
              "  text-align: right;\n",
              "}\n",
              "</style>\n",
              "<small>shape: (5, 16)</small><table border=\"1\" class=\"dataframe\"><thead><tr><th>Regiao - Sigla</th><th>Estado - Sigla</th><th>Municipio</th><th>Revenda</th><th>CNPJ da Revenda</th><th>Nome da Rua</th><th>Numero Rua</th><th>Complemento</th><th>Bairro</th><th>Cep</th><th>Produto</th><th>Data da Coleta</th><th>Valor de Venda</th><th>Valor de Compra</th><th>Unidade de Medida</th><th>Bandeira</th></tr><tr><td>str</td><td>str</td><td>str</td><td>str</td><td>str</td><td>str</td><td>str</td><td>str</td><td>str</td><td>str</td><td>str</td><td>date</td><td>str</td><td>str</td><td>str</td><td>str</td></tr></thead><tbody><tr><td>&quot;SE&quot;</td><td>&quot;ES&quot;</td><td>&quot;COLATINA&quot;</td><td>&quot;SAO FRANCISCO …</td><td>&quot; 08.519.545/00…</td><td>&quot;PRACA FIDELIS …</td><td>&quot;35&quot;</td><td>null</td><td>&quot;LACE&quot;</td><td>&quot;29703-030&quot;</td><td>&quot;GASOLINA ADITI…</td><td>2022-07-01</td><td>&quot;7,48&quot;</td><td>null</td><td>&quot;R$ / litro&quot;</td><td>&quot;VIBRA ENERGIA&quot;</td></tr><tr><td>&quot;SE&quot;</td><td>&quot;ES&quot;</td><td>&quot;COLATINA&quot;</td><td>&quot;SAO FRANCISCO …</td><td>&quot; 08.519.545/00…</td><td>&quot;PRACA FIDELIS …</td><td>&quot;35&quot;</td><td>null</td><td>&quot;LACE&quot;</td><td>&quot;29703-030&quot;</td><td>&quot;GASOLINA&quot;</td><td>2022-07-01</td><td>&quot;7,38&quot;</td><td>null</td><td>&quot;R$ / litro&quot;</td><td>&quot;VIBRA ENERGIA&quot;</td></tr><tr><td>&quot;SE&quot;</td><td>&quot;ES&quot;</td><td>&quot;COLATINA&quot;</td><td>&quot;POSTO MOTOCAP …</td><td>&quot; 04.814.652/00…</td><td>&quot;PRACA ALMIRANT…</td><td>&quot;52&quot;</td><td>&quot;LETRA A&quot;</td><td>&quot;LACE&quot;</td><td>&quot;29703-055&quot;</td><td>&quot;DIESEL S10&quot;</td><td>2022-07-01</td><td>&quot;7,69&quot;</td><td>null</td><td>&quot;R$ / litro&quot;</td><td>&quot;VIBRA ENERGIA&quot;</td></tr><tr><td>&quot;SE&quot;</td><td>&quot;ES&quot;</td><td>&quot;COLATINA&quot;</td><td>&quot;POSTO MOTOCAP …</td><td>&quot; 04.814.652/00…</td><td>&quot;PRACA ALMIRANT…</td><td>&quot;52&quot;</td><td>&quot;LETRA A&quot;</td><td>&quot;LACE&quot;</td><td>&quot;29703-055&quot;</td><td>&quot;ETANOL&quot;</td><td>2022-07-01</td><td>&quot;5,99&quot;</td><td>null</td><td>&quot;R$ / litro&quot;</td><td>&quot;VIBRA ENERGIA&quot;</td></tr><tr><td>&quot;SE&quot;</td><td>&quot;ES&quot;</td><td>&quot;COLATINA&quot;</td><td>&quot;POSTO MOTOCAP …</td><td>&quot; 04.814.652/00…</td><td>&quot;PRACA ALMIRANT…</td><td>&quot;52&quot;</td><td>&quot;LETRA A&quot;</td><td>&quot;LACE&quot;</td><td>&quot;29703-055&quot;</td><td>&quot;GASOLINA&quot;</td><td>2022-07-01</td><td>&quot;7,39&quot;</td><td>null</td><td>&quot;R$ / litro&quot;</td><td>&quot;VIBRA ENERGIA&quot;</td></tr></tbody></table></div>"
            ]
          },
          "metadata": {},
          "execution_count": 3
        }
      ]
    },
    {
      "cell_type": "code",
      "source": [
        "df = df.with_columns(pl.col(\"Valor de Venda\").str.replace(\",\", \".\"))"
      ],
      "metadata": {
        "id": "8ekl0v39sINE"
      },
      "execution_count": null,
      "outputs": []
    },
    {
      "cell_type": "code",
      "source": [
        "df = df.filter(pl.col(\"Valor de Venda\") !=\"SN\")\n",
        "df = df.with_columns(pl.col(\"Valor de Venda\").cast(pl.Float64))"
      ],
      "metadata": {
        "id": "wiTJn3UDciWX"
      },
      "execution_count": null,
      "outputs": []
    },
    {
      "cell_type": "code",
      "source": [
        "df.head()"
      ],
      "metadata": {
        "colab": {
          "base_uri": "https://localhost:8080/",
          "height": 359
        },
        "id": "log4F0Fetv18",
        "outputId": "59592446-3710-4f3d-850b-be6d736023b0"
      },
      "execution_count": null,
      "outputs": [
        {
          "output_type": "execute_result",
          "data": {
            "text/plain": [
              "shape: (5, 16)\n",
              "┌────────────┬────────────┬─────────┬──────────┬───┬────────────┬────────────┬────────────┬────────┐\n",
              "│ Regiao -   ┆ Estado -   ┆ Municip ┆ Revenda  ┆ … ┆ Valor de   ┆ Valor de   ┆ Unidade de ┆ Bandei │\n",
              "│ Sigla      ┆ Sigla      ┆ io      ┆ ---      ┆   ┆ Venda      ┆ Compra     ┆ Medida     ┆ ra     │\n",
              "│ ---        ┆ ---        ┆ ---     ┆ str      ┆   ┆ ---        ┆ ---        ┆ ---        ┆ ---    │\n",
              "│ str        ┆ str        ┆ str     ┆          ┆   ┆ f64        ┆ str        ┆ str        ┆ str    │\n",
              "╞════════════╪════════════╪═════════╪══════════╪═══╪════════════╪════════════╪════════════╪════════╡\n",
              "│ SE         ┆ ES         ┆ COLATIN ┆ SAO FRAN ┆ … ┆ 7.48       ┆ null       ┆ R$ / litro ┆ VIBRA  │\n",
              "│            ┆            ┆ A       ┆ CISCO DE ┆   ┆            ┆            ┆            ┆ ENERGI │\n",
              "│            ┆            ┆         ┆ ASSIS    ┆   ┆            ┆            ┆            ┆ A      │\n",
              "│            ┆            ┆         ┆ COMERCIO ┆   ┆            ┆            ┆            ┆        │\n",
              "│            ┆            ┆         ┆ …        ┆   ┆            ┆            ┆            ┆        │\n",
              "│ SE         ┆ ES         ┆ COLATIN ┆ SAO FRAN ┆ … ┆ 7.38       ┆ null       ┆ R$ / litro ┆ VIBRA  │\n",
              "│            ┆            ┆ A       ┆ CISCO DE ┆   ┆            ┆            ┆            ┆ ENERGI │\n",
              "│            ┆            ┆         ┆ ASSIS    ┆   ┆            ┆            ┆            ┆ A      │\n",
              "│            ┆            ┆         ┆ COMERCIO ┆   ┆            ┆            ┆            ┆        │\n",
              "│            ┆            ┆         ┆ …        ┆   ┆            ┆            ┆            ┆        │\n",
              "│ SE         ┆ ES         ┆ COLATIN ┆ POSTO    ┆ … ┆ 7.69       ┆ null       ┆ R$ / litro ┆ VIBRA  │\n",
              "│            ┆            ┆ A       ┆ MOTOCAP  ┆   ┆            ┆            ┆            ┆ ENERGI │\n",
              "│            ┆            ┆         ┆ LTDA     ┆   ┆            ┆            ┆            ┆ A      │\n",
              "│ SE         ┆ ES         ┆ COLATIN ┆ POSTO    ┆ … ┆ 5.99       ┆ null       ┆ R$ / litro ┆ VIBRA  │\n",
              "│            ┆            ┆ A       ┆ MOTOCAP  ┆   ┆            ┆            ┆            ┆ ENERGI │\n",
              "│            ┆            ┆         ┆ LTDA     ┆   ┆            ┆            ┆            ┆ A      │\n",
              "│ SE         ┆ ES         ┆ COLATIN ┆ POSTO    ┆ … ┆ 7.39       ┆ null       ┆ R$ / litro ┆ VIBRA  │\n",
              "│            ┆            ┆ A       ┆ MOTOCAP  ┆   ┆            ┆            ┆            ┆ ENERGI │\n",
              "│            ┆            ┆         ┆ LTDA     ┆   ┆            ┆            ┆            ┆ A      │\n",
              "└────────────┴────────────┴─────────┴──────────┴───┴────────────┴────────────┴────────────┴────────┘"
            ],
            "text/html": [
              "<div><style>\n",
              ".dataframe > thead > tr > th,\n",
              ".dataframe > tbody > tr > td {\n",
              "  text-align: right;\n",
              "}\n",
              "</style>\n",
              "<small>shape: (5, 16)</small><table border=\"1\" class=\"dataframe\"><thead><tr><th>Regiao - Sigla</th><th>Estado - Sigla</th><th>Municipio</th><th>Revenda</th><th>CNPJ da Revenda</th><th>Nome da Rua</th><th>Numero Rua</th><th>Complemento</th><th>Bairro</th><th>Cep</th><th>Produto</th><th>Data da Coleta</th><th>Valor de Venda</th><th>Valor de Compra</th><th>Unidade de Medida</th><th>Bandeira</th></tr><tr><td>str</td><td>str</td><td>str</td><td>str</td><td>str</td><td>str</td><td>str</td><td>str</td><td>str</td><td>str</td><td>str</td><td>date</td><td>f64</td><td>str</td><td>str</td><td>str</td></tr></thead><tbody><tr><td>&quot;SE&quot;</td><td>&quot;ES&quot;</td><td>&quot;COLATINA&quot;</td><td>&quot;SAO FRANCISCO …</td><td>&quot; 08.519.545/00…</td><td>&quot;PRACA FIDELIS …</td><td>&quot;35&quot;</td><td>null</td><td>&quot;LACE&quot;</td><td>&quot;29703-030&quot;</td><td>&quot;GASOLINA ADITI…</td><td>2022-07-01</td><td>7.48</td><td>null</td><td>&quot;R$ / litro&quot;</td><td>&quot;VIBRA ENERGIA&quot;</td></tr><tr><td>&quot;SE&quot;</td><td>&quot;ES&quot;</td><td>&quot;COLATINA&quot;</td><td>&quot;SAO FRANCISCO …</td><td>&quot; 08.519.545/00…</td><td>&quot;PRACA FIDELIS …</td><td>&quot;35&quot;</td><td>null</td><td>&quot;LACE&quot;</td><td>&quot;29703-030&quot;</td><td>&quot;GASOLINA&quot;</td><td>2022-07-01</td><td>7.38</td><td>null</td><td>&quot;R$ / litro&quot;</td><td>&quot;VIBRA ENERGIA&quot;</td></tr><tr><td>&quot;SE&quot;</td><td>&quot;ES&quot;</td><td>&quot;COLATINA&quot;</td><td>&quot;POSTO MOTOCAP …</td><td>&quot; 04.814.652/00…</td><td>&quot;PRACA ALMIRANT…</td><td>&quot;52&quot;</td><td>&quot;LETRA A&quot;</td><td>&quot;LACE&quot;</td><td>&quot;29703-055&quot;</td><td>&quot;DIESEL S10&quot;</td><td>2022-07-01</td><td>7.69</td><td>null</td><td>&quot;R$ / litro&quot;</td><td>&quot;VIBRA ENERGIA&quot;</td></tr><tr><td>&quot;SE&quot;</td><td>&quot;ES&quot;</td><td>&quot;COLATINA&quot;</td><td>&quot;POSTO MOTOCAP …</td><td>&quot; 04.814.652/00…</td><td>&quot;PRACA ALMIRANT…</td><td>&quot;52&quot;</td><td>&quot;LETRA A&quot;</td><td>&quot;LACE&quot;</td><td>&quot;29703-055&quot;</td><td>&quot;ETANOL&quot;</td><td>2022-07-01</td><td>5.99</td><td>null</td><td>&quot;R$ / litro&quot;</td><td>&quot;VIBRA ENERGIA&quot;</td></tr><tr><td>&quot;SE&quot;</td><td>&quot;ES&quot;</td><td>&quot;COLATINA&quot;</td><td>&quot;POSTO MOTOCAP …</td><td>&quot; 04.814.652/00…</td><td>&quot;PRACA ALMIRANT…</td><td>&quot;52&quot;</td><td>&quot;LETRA A&quot;</td><td>&quot;LACE&quot;</td><td>&quot;29703-055&quot;</td><td>&quot;GASOLINA&quot;</td><td>2022-07-01</td><td>7.39</td><td>null</td><td>&quot;R$ / litro&quot;</td><td>&quot;VIBRA ENERGIA&quot;</td></tr></tbody></table></div>"
            ]
          },
          "metadata": {},
          "execution_count": 6
        }
      ]
    },
    {
      "cell_type": "code",
      "source": [
        "df_temp = df.select([\"Regiao - Sigla\", \"Estado - Sigla\", \"Revenda\", \"Produto\", \"Data da Coleta\", \"Valor de Venda\", \"Bandeira\"])"
      ],
      "metadata": {
        "id": "qD_KjUHbuqwU"
      },
      "execution_count": null,
      "outputs": []
    },
    {
      "cell_type": "code",
      "source": [
        "df_temp.head(50)"
      ],
      "metadata": {
        "colab": {
          "base_uri": "https://localhost:8080/",
          "height": 882
        },
        "id": "q1ELKzdTyHR8",
        "outputId": "f97a1d6a-f3c4-4fea-8e60-5a3fbc6666ec"
      },
      "execution_count": null,
      "outputs": [
        {
          "output_type": "execute_result",
          "data": {
            "text/plain": [
              "shape: (50, 7)\n",
              "┌────────────┬────────────┬─────────────────┬────────────┬────────────┬──────────┬─────────────────┐\n",
              "│ Regiao -   ┆ Estado -   ┆ Revenda         ┆ Produto    ┆ Data da    ┆ Valor de ┆ Bandeira        │\n",
              "│ Sigla      ┆ Sigla      ┆ ---             ┆ ---        ┆ Coleta     ┆ Venda    ┆ ---             │\n",
              "│ ---        ┆ ---        ┆ str             ┆ str        ┆ ---        ┆ ---      ┆ str             │\n",
              "│ str        ┆ str        ┆                 ┆            ┆ date       ┆ f64      ┆                 │\n",
              "╞════════════╪════════════╪═════════════════╪════════════╪════════════╪══════════╪═════════════════╡\n",
              "│ SE         ┆ ES         ┆ SAO FRANCISCO   ┆ GASOLINA   ┆ 2022-07-01 ┆ 7.48     ┆ VIBRA ENERGIA   │\n",
              "│            ┆            ┆ DE ASSIS        ┆ ADITIVADA  ┆            ┆          ┆                 │\n",
              "│            ┆            ┆ COMERCIO …      ┆            ┆            ┆          ┆                 │\n",
              "│ SE         ┆ ES         ┆ SAO FRANCISCO   ┆ GASOLINA   ┆ 2022-07-01 ┆ 7.38     ┆ VIBRA ENERGIA   │\n",
              "│            ┆            ┆ DE ASSIS        ┆            ┆            ┆          ┆                 │\n",
              "│            ┆            ┆ COMERCIO …      ┆            ┆            ┆          ┆                 │\n",
              "│ SE         ┆ ES         ┆ POSTO MOTOCAP   ┆ DIESEL S10 ┆ 2022-07-01 ┆ 7.69     ┆ VIBRA ENERGIA   │\n",
              "│            ┆            ┆ LTDA            ┆            ┆            ┆          ┆                 │\n",
              "│ SE         ┆ ES         ┆ POSTO MOTOCAP   ┆ ETANOL     ┆ 2022-07-01 ┆ 5.99     ┆ VIBRA ENERGIA   │\n",
              "│            ┆            ┆ LTDA            ┆            ┆            ┆          ┆                 │\n",
              "│ …          ┆ …          ┆ …               ┆ …          ┆ …          ┆ …        ┆ …               │\n",
              "│ SE         ┆ RJ         ┆ POSTO DUAS      ┆ GASOLINA   ┆ 2022-07-01 ┆ 7.85     ┆ VIBRA ENERGIA   │\n",
              "│            ┆            ┆ COLUNAS LTDA    ┆ ADITIVADA  ┆            ┆          ┆                 │\n",
              "│ SE         ┆ RJ         ┆ POSTO DUAS      ┆ GNV        ┆ 2022-07-01 ┆ 6.69     ┆ VIBRA ENERGIA   │\n",
              "│            ┆            ┆ COLUNAS LTDA    ┆            ┆            ┆          ┆                 │\n",
              "│ SE         ┆ RJ         ┆ POSTO DUAS      ┆ DIESEL S10 ┆ 2022-07-01 ┆ 7.65     ┆ VIBRA ENERGIA   │\n",
              "│            ┆            ┆ COLUNAS LTDA    ┆            ┆            ┆          ┆                 │\n",
              "│ SE         ┆ RJ         ┆ POSTO DUAS      ┆ DIESEL     ┆ 2022-07-01 ┆ 7.35     ┆ VIBRA ENERGIA   │\n",
              "│            ┆            ┆ COLUNAS LTDA    ┆            ┆            ┆          ┆                 │\n",
              "└────────────┴────────────┴─────────────────┴────────────┴────────────┴──────────┴─────────────────┘"
            ],
            "text/html": [
              "<div><style>\n",
              ".dataframe > thead > tr > th,\n",
              ".dataframe > tbody > tr > td {\n",
              "  text-align: right;\n",
              "}\n",
              "</style>\n",
              "<small>shape: (50, 7)</small><table border=\"1\" class=\"dataframe\"><thead><tr><th>Regiao - Sigla</th><th>Estado - Sigla</th><th>Revenda</th><th>Produto</th><th>Data da Coleta</th><th>Valor de Venda</th><th>Bandeira</th></tr><tr><td>str</td><td>str</td><td>str</td><td>str</td><td>date</td><td>f64</td><td>str</td></tr></thead><tbody><tr><td>&quot;SE&quot;</td><td>&quot;ES&quot;</td><td>&quot;SAO FRANCISCO …</td><td>&quot;GASOLINA ADITI…</td><td>2022-07-01</td><td>7.48</td><td>&quot;VIBRA ENERGIA&quot;</td></tr><tr><td>&quot;SE&quot;</td><td>&quot;ES&quot;</td><td>&quot;SAO FRANCISCO …</td><td>&quot;GASOLINA&quot;</td><td>2022-07-01</td><td>7.38</td><td>&quot;VIBRA ENERGIA&quot;</td></tr><tr><td>&quot;SE&quot;</td><td>&quot;ES&quot;</td><td>&quot;POSTO MOTOCAP …</td><td>&quot;DIESEL S10&quot;</td><td>2022-07-01</td><td>7.69</td><td>&quot;VIBRA ENERGIA&quot;</td></tr><tr><td>&quot;SE&quot;</td><td>&quot;ES&quot;</td><td>&quot;POSTO MOTOCAP …</td><td>&quot;ETANOL&quot;</td><td>2022-07-01</td><td>5.99</td><td>&quot;VIBRA ENERGIA&quot;</td></tr><tr><td>&quot;SE&quot;</td><td>&quot;ES&quot;</td><td>&quot;POSTO MOTOCAP …</td><td>&quot;GASOLINA&quot;</td><td>2022-07-01</td><td>7.39</td><td>&quot;VIBRA ENERGIA&quot;</td></tr><tr><td>&quot;CO&quot;</td><td>&quot;GO&quot;</td><td>&quot;JUSTINIANO &amp; J…</td><td>&quot;DIESEL S10&quot;</td><td>2022-07-01</td><td>7.49</td><td>&quot;IPIRANGA&quot;</td></tr><tr><td>&quot;CO&quot;</td><td>&quot;GO&quot;</td><td>&quot;JUSTINIANO &amp; J…</td><td>&quot;GASOLINA ADITI…</td><td>2022-07-01</td><td>6.49</td><td>&quot;IPIRANGA&quot;</td></tr><tr><td>&quot;CO&quot;</td><td>&quot;GO&quot;</td><td>&quot;JUSTINIANO &amp; J…</td><td>&quot;DIESEL&quot;</td><td>2022-07-01</td><td>7.39</td><td>&quot;IPIRANGA&quot;</td></tr><tr><td>&quot;CO&quot;</td><td>&quot;GO&quot;</td><td>&quot;JUSTINIANO &amp; J…</td><td>&quot;ETANOL&quot;</td><td>2022-07-01</td><td>4.24</td><td>&quot;IPIRANGA&quot;</td></tr><tr><td>&quot;CO&quot;</td><td>&quot;GO&quot;</td><td>&quot;JUSTINIANO &amp; J…</td><td>&quot;GASOLINA&quot;</td><td>2022-07-01</td><td>5.99</td><td>&quot;IPIRANGA&quot;</td></tr><tr><td>&quot;CO&quot;</td><td>&quot;GO&quot;</td><td>&quot;VIENA AUTO POS…</td><td>&quot;DIESEL S10&quot;</td><td>2022-07-01</td><td>7.69</td><td>&quot;BRANCA&quot;</td></tr><tr><td>&quot;CO&quot;</td><td>&quot;GO&quot;</td><td>&quot;VIENA AUTO POS…</td><td>&quot;GASOLINA ADITI…</td><td>2022-07-01</td><td>6.89</td><td>&quot;BRANCA&quot;</td></tr><tr><td>&hellip;</td><td>&hellip;</td><td>&hellip;</td><td>&hellip;</td><td>&hellip;</td><td>&hellip;</td><td>&hellip;</td></tr><tr><td>&quot;SE&quot;</td><td>&quot;RJ&quot;</td><td>&quot;AUTO LUBRIFICA…</td><td>&quot;DIESEL S10&quot;</td><td>2022-07-01</td><td>7.79</td><td>&quot;IPIRANGA&quot;</td></tr><tr><td>&quot;SE&quot;</td><td>&quot;RJ&quot;</td><td>&quot;AUTO LUBRIFICA…</td><td>&quot;ETANOL&quot;</td><td>2022-07-01</td><td>6.29</td><td>&quot;IPIRANGA&quot;</td></tr><tr><td>&quot;SE&quot;</td><td>&quot;RJ&quot;</td><td>&quot;AUTO LUBRIFICA…</td><td>&quot;GASOLINA&quot;</td><td>2022-07-01</td><td>7.75</td><td>&quot;IPIRANGA&quot;</td></tr><tr><td>&quot;SE&quot;</td><td>&quot;RJ&quot;</td><td>&quot;COMERCIO DE PE…</td><td>&quot;GASOLINA ADITI…</td><td>2022-07-01</td><td>7.95</td><td>&quot;RAIZEN&quot;</td></tr><tr><td>&quot;SE&quot;</td><td>&quot;RJ&quot;</td><td>&quot;COMERCIO DE PE…</td><td>&quot;DIESEL S10&quot;</td><td>2022-07-01</td><td>7.65</td><td>&quot;RAIZEN&quot;</td></tr><tr><td>&quot;SE&quot;</td><td>&quot;RJ&quot;</td><td>&quot;COMERCIO DE PE…</td><td>&quot;DIESEL&quot;</td><td>2022-07-01</td><td>7.35</td><td>&quot;RAIZEN&quot;</td></tr><tr><td>&quot;SE&quot;</td><td>&quot;RJ&quot;</td><td>&quot;COMERCIO DE PE…</td><td>&quot;ETANOL&quot;</td><td>2022-07-01</td><td>6.29</td><td>&quot;RAIZEN&quot;</td></tr><tr><td>&quot;SE&quot;</td><td>&quot;RJ&quot;</td><td>&quot;COMERCIO DE PE…</td><td>&quot;GASOLINA&quot;</td><td>2022-07-01</td><td>7.75</td><td>&quot;RAIZEN&quot;</td></tr><tr><td>&quot;SE&quot;</td><td>&quot;RJ&quot;</td><td>&quot;POSTO DUAS COL…</td><td>&quot;GASOLINA ADITI…</td><td>2022-07-01</td><td>7.85</td><td>&quot;VIBRA ENERGIA&quot;</td></tr><tr><td>&quot;SE&quot;</td><td>&quot;RJ&quot;</td><td>&quot;POSTO DUAS COL…</td><td>&quot;GNV&quot;</td><td>2022-07-01</td><td>6.69</td><td>&quot;VIBRA ENERGIA&quot;</td></tr><tr><td>&quot;SE&quot;</td><td>&quot;RJ&quot;</td><td>&quot;POSTO DUAS COL…</td><td>&quot;DIESEL S10&quot;</td><td>2022-07-01</td><td>7.65</td><td>&quot;VIBRA ENERGIA&quot;</td></tr><tr><td>&quot;SE&quot;</td><td>&quot;RJ&quot;</td><td>&quot;POSTO DUAS COL…</td><td>&quot;DIESEL&quot;</td><td>2022-07-01</td><td>7.35</td><td>&quot;VIBRA ENERGIA&quot;</td></tr></tbody></table></div>"
            ]
          },
          "metadata": {},
          "execution_count": 8
        }
      ]
    },
    {
      "cell_type": "code",
      "source": [
        "import matplotlib.pyplot as plt\n",
        "import seaborn as sns"
      ],
      "metadata": {
        "id": "QiOfHtpFycbt"
      },
      "execution_count": null,
      "outputs": []
    },
    {
      "cell_type": "code",
      "source": [
        "df_temp2 = df_temp.to_pandas()"
      ],
      "metadata": {
        "id": "uN4OMH6y02vp"
      },
      "execution_count": null,
      "outputs": []
    },
    {
      "cell_type": "code",
      "source": [
        "df_temp2"
      ],
      "metadata": {
        "colab": {
          "base_uri": "https://localhost:8080/",
          "height": 424
        },
        "id": "CKG2_r6M07TY",
        "outputId": "67fc62ff-f35e-47a1-e034-f2a3cb5d2713"
      },
      "execution_count": null,
      "outputs": [
        {
          "output_type": "execute_result",
          "data": {
            "text/plain": [
              "       Regiao - Sigla Estado - Sigla  \\\n",
              "0                  SE             ES   \n",
              "1                  SE             ES   \n",
              "2                  SE             ES   \n",
              "3                  SE             ES   \n",
              "4                  SE             ES   \n",
              "...               ...            ...   \n",
              "378073              S             SC   \n",
              "378074              S             SC   \n",
              "378075              S             SC   \n",
              "378076              S             SC   \n",
              "378077              S             SC   \n",
              "\n",
              "                                                  Revenda             Produto  \\\n",
              "0       SAO FRANCISCO DE ASSIS COMERCIO DE COMBUSTIVEI...  GASOLINA ADITIVADA   \n",
              "1       SAO FRANCISCO DE ASSIS COMERCIO DE COMBUSTIVEI...            GASOLINA   \n",
              "2                                      POSTO MOTOCAP LTDA          DIESEL S10   \n",
              "3                                      POSTO MOTOCAP LTDA              ETANOL   \n",
              "4                                      POSTO MOTOCAP LTDA            GASOLINA   \n",
              "...                                                   ...                 ...   \n",
              "378073                     POSTO DE COMBUSTIVEIS MAX LTDA            GASOLINA   \n",
              "378074                     POSTO DE COMBUSTIVEIS MAX LTDA          DIESEL S10   \n",
              "378075                             REDE DE POSTOS R4 LTDA  GASOLINA ADITIVADA   \n",
              "378076                             REDE DE POSTOS R4 LTDA            GASOLINA   \n",
              "378077                         FISCHER COMBUSTIVEL EIRELI            GASOLINA   \n",
              "\n",
              "       Data da Coleta  Valor de Venda       Bandeira  \n",
              "0          2022-07-01            7.48  VIBRA ENERGIA  \n",
              "1          2022-07-01            7.38  VIBRA ENERGIA  \n",
              "2          2022-07-01            7.69  VIBRA ENERGIA  \n",
              "3          2022-07-01            5.99  VIBRA ENERGIA  \n",
              "4          2022-07-01            7.39  VIBRA ENERGIA  \n",
              "...               ...             ...            ...  \n",
              "378073     2022-12-30            5.04         MAXSUL  \n",
              "378074     2022-12-30            6.19         MAXSUL  \n",
              "378075     2022-12-30            5.31  VIBRA ENERGIA  \n",
              "378076     2022-12-30            5.11  VIBRA ENERGIA  \n",
              "378077     2022-12-30            5.09       IPIRANGA  \n",
              "\n",
              "[378078 rows x 7 columns]"
            ],
            "text/html": [
              "\n",
              "  <div id=\"df-f700eaef-fbd3-4556-9829-7d7b206c2cdf\">\n",
              "    <div class=\"colab-df-container\">\n",
              "      <div>\n",
              "<style scoped>\n",
              "    .dataframe tbody tr th:only-of-type {\n",
              "        vertical-align: middle;\n",
              "    }\n",
              "\n",
              "    .dataframe tbody tr th {\n",
              "        vertical-align: top;\n",
              "    }\n",
              "\n",
              "    .dataframe thead th {\n",
              "        text-align: right;\n",
              "    }\n",
              "</style>\n",
              "<table border=\"1\" class=\"dataframe\">\n",
              "  <thead>\n",
              "    <tr style=\"text-align: right;\">\n",
              "      <th></th>\n",
              "      <th>Regiao - Sigla</th>\n",
              "      <th>Estado - Sigla</th>\n",
              "      <th>Revenda</th>\n",
              "      <th>Produto</th>\n",
              "      <th>Data da Coleta</th>\n",
              "      <th>Valor de Venda</th>\n",
              "      <th>Bandeira</th>\n",
              "    </tr>\n",
              "  </thead>\n",
              "  <tbody>\n",
              "    <tr>\n",
              "      <th>0</th>\n",
              "      <td>SE</td>\n",
              "      <td>ES</td>\n",
              "      <td>SAO FRANCISCO DE ASSIS COMERCIO DE COMBUSTIVEI...</td>\n",
              "      <td>GASOLINA ADITIVADA</td>\n",
              "      <td>2022-07-01</td>\n",
              "      <td>7.48</td>\n",
              "      <td>VIBRA ENERGIA</td>\n",
              "    </tr>\n",
              "    <tr>\n",
              "      <th>1</th>\n",
              "      <td>SE</td>\n",
              "      <td>ES</td>\n",
              "      <td>SAO FRANCISCO DE ASSIS COMERCIO DE COMBUSTIVEI...</td>\n",
              "      <td>GASOLINA</td>\n",
              "      <td>2022-07-01</td>\n",
              "      <td>7.38</td>\n",
              "      <td>VIBRA ENERGIA</td>\n",
              "    </tr>\n",
              "    <tr>\n",
              "      <th>2</th>\n",
              "      <td>SE</td>\n",
              "      <td>ES</td>\n",
              "      <td>POSTO MOTOCAP LTDA</td>\n",
              "      <td>DIESEL S10</td>\n",
              "      <td>2022-07-01</td>\n",
              "      <td>7.69</td>\n",
              "      <td>VIBRA ENERGIA</td>\n",
              "    </tr>\n",
              "    <tr>\n",
              "      <th>3</th>\n",
              "      <td>SE</td>\n",
              "      <td>ES</td>\n",
              "      <td>POSTO MOTOCAP LTDA</td>\n",
              "      <td>ETANOL</td>\n",
              "      <td>2022-07-01</td>\n",
              "      <td>5.99</td>\n",
              "      <td>VIBRA ENERGIA</td>\n",
              "    </tr>\n",
              "    <tr>\n",
              "      <th>4</th>\n",
              "      <td>SE</td>\n",
              "      <td>ES</td>\n",
              "      <td>POSTO MOTOCAP LTDA</td>\n",
              "      <td>GASOLINA</td>\n",
              "      <td>2022-07-01</td>\n",
              "      <td>7.39</td>\n",
              "      <td>VIBRA ENERGIA</td>\n",
              "    </tr>\n",
              "    <tr>\n",
              "      <th>...</th>\n",
              "      <td>...</td>\n",
              "      <td>...</td>\n",
              "      <td>...</td>\n",
              "      <td>...</td>\n",
              "      <td>...</td>\n",
              "      <td>...</td>\n",
              "      <td>...</td>\n",
              "    </tr>\n",
              "    <tr>\n",
              "      <th>378073</th>\n",
              "      <td>S</td>\n",
              "      <td>SC</td>\n",
              "      <td>POSTO DE COMBUSTIVEIS MAX LTDA</td>\n",
              "      <td>GASOLINA</td>\n",
              "      <td>2022-12-30</td>\n",
              "      <td>5.04</td>\n",
              "      <td>MAXSUL</td>\n",
              "    </tr>\n",
              "    <tr>\n",
              "      <th>378074</th>\n",
              "      <td>S</td>\n",
              "      <td>SC</td>\n",
              "      <td>POSTO DE COMBUSTIVEIS MAX LTDA</td>\n",
              "      <td>DIESEL S10</td>\n",
              "      <td>2022-12-30</td>\n",
              "      <td>6.19</td>\n",
              "      <td>MAXSUL</td>\n",
              "    </tr>\n",
              "    <tr>\n",
              "      <th>378075</th>\n",
              "      <td>S</td>\n",
              "      <td>SC</td>\n",
              "      <td>REDE DE POSTOS R4 LTDA</td>\n",
              "      <td>GASOLINA ADITIVADA</td>\n",
              "      <td>2022-12-30</td>\n",
              "      <td>5.31</td>\n",
              "      <td>VIBRA ENERGIA</td>\n",
              "    </tr>\n",
              "    <tr>\n",
              "      <th>378076</th>\n",
              "      <td>S</td>\n",
              "      <td>SC</td>\n",
              "      <td>REDE DE POSTOS R4 LTDA</td>\n",
              "      <td>GASOLINA</td>\n",
              "      <td>2022-12-30</td>\n",
              "      <td>5.11</td>\n",
              "      <td>VIBRA ENERGIA</td>\n",
              "    </tr>\n",
              "    <tr>\n",
              "      <th>378077</th>\n",
              "      <td>S</td>\n",
              "      <td>SC</td>\n",
              "      <td>FISCHER COMBUSTIVEL EIRELI</td>\n",
              "      <td>GASOLINA</td>\n",
              "      <td>2022-12-30</td>\n",
              "      <td>5.09</td>\n",
              "      <td>IPIRANGA</td>\n",
              "    </tr>\n",
              "  </tbody>\n",
              "</table>\n",
              "<p>378078 rows × 7 columns</p>\n",
              "</div>\n",
              "      <button class=\"colab-df-convert\" onclick=\"convertToInteractive('df-f700eaef-fbd3-4556-9829-7d7b206c2cdf')\"\n",
              "              title=\"Convert this dataframe to an interactive table.\"\n",
              "              style=\"display:none;\">\n",
              "        \n",
              "  <svg xmlns=\"http://www.w3.org/2000/svg\" height=\"24px\"viewBox=\"0 0 24 24\"\n",
              "       width=\"24px\">\n",
              "    <path d=\"M0 0h24v24H0V0z\" fill=\"none\"/>\n",
              "    <path d=\"M18.56 5.44l.94 2.06.94-2.06 2.06-.94-2.06-.94-.94-2.06-.94 2.06-2.06.94zm-11 1L8.5 8.5l.94-2.06 2.06-.94-2.06-.94L8.5 2.5l-.94 2.06-2.06.94zm10 10l.94 2.06.94-2.06 2.06-.94-2.06-.94-.94-2.06-.94 2.06-2.06.94z\"/><path d=\"M17.41 7.96l-1.37-1.37c-.4-.4-.92-.59-1.43-.59-.52 0-1.04.2-1.43.59L10.3 9.45l-7.72 7.72c-.78.78-.78 2.05 0 2.83L4 21.41c.39.39.9.59 1.41.59.51 0 1.02-.2 1.41-.59l7.78-7.78 2.81-2.81c.8-.78.8-2.07 0-2.86zM5.41 20L4 18.59l7.72-7.72 1.47 1.35L5.41 20z\"/>\n",
              "  </svg>\n",
              "      </button>\n",
              "      \n",
              "  <style>\n",
              "    .colab-df-container {\n",
              "      display:flex;\n",
              "      flex-wrap:wrap;\n",
              "      gap: 12px;\n",
              "    }\n",
              "\n",
              "    .colab-df-convert {\n",
              "      background-color: #E8F0FE;\n",
              "      border: none;\n",
              "      border-radius: 50%;\n",
              "      cursor: pointer;\n",
              "      display: none;\n",
              "      fill: #1967D2;\n",
              "      height: 32px;\n",
              "      padding: 0 0 0 0;\n",
              "      width: 32px;\n",
              "    }\n",
              "\n",
              "    .colab-df-convert:hover {\n",
              "      background-color: #E2EBFA;\n",
              "      box-shadow: 0px 1px 2px rgba(60, 64, 67, 0.3), 0px 1px 3px 1px rgba(60, 64, 67, 0.15);\n",
              "      fill: #174EA6;\n",
              "    }\n",
              "\n",
              "    [theme=dark] .colab-df-convert {\n",
              "      background-color: #3B4455;\n",
              "      fill: #D2E3FC;\n",
              "    }\n",
              "\n",
              "    [theme=dark] .colab-df-convert:hover {\n",
              "      background-color: #434B5C;\n",
              "      box-shadow: 0px 1px 3px 1px rgba(0, 0, 0, 0.15);\n",
              "      filter: drop-shadow(0px 1px 2px rgba(0, 0, 0, 0.3));\n",
              "      fill: #FFFFFF;\n",
              "    }\n",
              "  </style>\n",
              "\n",
              "      <script>\n",
              "        const buttonEl =\n",
              "          document.querySelector('#df-f700eaef-fbd3-4556-9829-7d7b206c2cdf button.colab-df-convert');\n",
              "        buttonEl.style.display =\n",
              "          google.colab.kernel.accessAllowed ? 'block' : 'none';\n",
              "\n",
              "        async function convertToInteractive(key) {\n",
              "          const element = document.querySelector('#df-f700eaef-fbd3-4556-9829-7d7b206c2cdf');\n",
              "          const dataTable =\n",
              "            await google.colab.kernel.invokeFunction('convertToInteractive',\n",
              "                                                     [key], {});\n",
              "          if (!dataTable) return;\n",
              "\n",
              "          const docLinkHtml = 'Like what you see? Visit the ' +\n",
              "            '<a target=\"_blank\" href=https://colab.research.google.com/notebooks/data_table.ipynb>data table notebook</a>'\n",
              "            + ' to learn more about interactive tables.';\n",
              "          element.innerHTML = '';\n",
              "          dataTable['output_type'] = 'display_data';\n",
              "          await google.colab.output.renderOutput(dataTable, element);\n",
              "          const docLink = document.createElement('div');\n",
              "          docLink.innerHTML = docLinkHtml;\n",
              "          element.appendChild(docLink);\n",
              "        }\n",
              "      </script>\n",
              "    </div>\n",
              "  </div>\n",
              "  "
            ]
          },
          "metadata": {},
          "execution_count": 11
        }
      ]
    },
    {
      "cell_type": "code",
      "source": [
        "len(df_temp2[\"Regiao - Sigla\"].unique())"
      ],
      "metadata": {
        "colab": {
          "base_uri": "https://localhost:8080/"
        },
        "id": "qL_-36Km099E",
        "outputId": "1fbf98d6-3476-4a26-c8f2-e7b5c7b0bc64"
      },
      "execution_count": null,
      "outputs": [
        {
          "output_type": "execute_result",
          "data": {
            "text/plain": [
              "5"
            ]
          },
          "metadata": {},
          "execution_count": 12
        }
      ]
    },
    {
      "cell_type": "code",
      "source": [
        "df_temp2[\"Estado - Sigla\"].unique()"
      ],
      "metadata": {
        "colab": {
          "base_uri": "https://localhost:8080/"
        },
        "id": "6SnDfCf010op",
        "outputId": "df09df85-4d32-4a17-b0a0-3c72ce7ee3fd"
      },
      "execution_count": null,
      "outputs": [
        {
          "output_type": "execute_result",
          "data": {
            "text/plain": [
              "array(['ES', 'GO', 'PI', 'RJ', 'SP', 'SC', 'PR', 'AL', 'AM', 'AP', 'BA',\n",
              "       'CE', 'MA', 'MG', 'MS', 'PA', 'PB', 'PE', 'RN', 'RO', 'RS', 'SE',\n",
              "       'TO', 'AC', 'MT', 'RR', 'DF'], dtype=object)"
            ]
          },
          "metadata": {},
          "execution_count": 13
        }
      ]
    },
    {
      "cell_type": "code",
      "source": [
        "len(df_temp2[\"Estado - Sigla\"].value_counts())"
      ],
      "metadata": {
        "colab": {
          "base_uri": "https://localhost:8080/"
        },
        "id": "xDrujiRfKGTx",
        "outputId": "b4b5cc08-a5fb-471c-8f6b-967cfa1db18a"
      },
      "execution_count": null,
      "outputs": [
        {
          "output_type": "execute_result",
          "data": {
            "text/plain": [
              "27"
            ]
          },
          "metadata": {},
          "execution_count": 15
        }
      ]
    },
    {
      "cell_type": "code",
      "source": [
        "df_temp2[\"Estado - Sigla\"].value_counts()"
      ],
      "metadata": {
        "colab": {
          "base_uri": "https://localhost:8080/"
        },
        "id": "_suHPcNX2Gfx",
        "outputId": "e1b5630a-1925-4333-9428-85817b70dd40"
      },
      "execution_count": null,
      "outputs": [
        {
          "output_type": "execute_result",
          "data": {
            "text/plain": [
              "SP    108623\n",
              "MG     36619\n",
              "RJ     30074\n",
              "RS     25281\n",
              "PR     24081\n",
              "BA     18460\n",
              "SC     15869\n",
              "GO     13868\n",
              "CE     13331\n",
              "PE     10336\n",
              "MT      9102\n",
              "ES      7549\n",
              "PA      7439\n",
              "MA      7381\n",
              "MS      5769\n",
              "AM      5194\n",
              "PI      5120\n",
              "RN      5080\n",
              "PB      4822\n",
              "DF      4813\n",
              "RO      4632\n",
              "AL      4014\n",
              "TO      3013\n",
              "SE      2913\n",
              "AC      2261\n",
              "RR      1373\n",
              "AP      1061\n",
              "Name: Estado - Sigla, dtype: int64"
            ]
          },
          "metadata": {},
          "execution_count": 14
        }
      ]
    },
    {
      "cell_type": "code",
      "source": [
        "df_temp2[\"Regiao - Sigla\"].value_counts()"
      ],
      "metadata": {
        "colab": {
          "base_uri": "https://localhost:8080/"
        },
        "id": "C-YPa_VyKXYA",
        "outputId": "0efb73bc-8a1b-4780-9037-e1b538e9669e"
      },
      "execution_count": null,
      "outputs": [
        {
          "output_type": "execute_result",
          "data": {
            "text/plain": [
              "SE    182865\n",
              "NE     71457\n",
              "S      65231\n",
              "CO     33552\n",
              "N      24973\n",
              "Name: Regiao - Sigla, dtype: int64"
            ]
          },
          "metadata": {},
          "execution_count": 16
        }
      ]
    },
    {
      "cell_type": "code",
      "source": [
        "182865/378077\n",
        "\n",
        "#48% dos dados são da região Sudeste"
      ],
      "metadata": {
        "colab": {
          "base_uri": "https://localhost:8080/"
        },
        "id": "2R6CJXSZKtZo",
        "outputId": "dd40a20d-c9a6-4aa7-c2d3-76f37bbb2bfa"
      },
      "execution_count": null,
      "outputs": [
        {
          "output_type": "execute_result",
          "data": {
            "text/plain": [
              "0.4836713156314719"
            ]
          },
          "metadata": {},
          "execution_count": 20
        }
      ]
    },
    {
      "cell_type": "code",
      "source": [
        "df_temp2[\"Valor de Venda\"].describe()"
      ],
      "metadata": {
        "colab": {
          "base_uri": "https://localhost:8080/"
        },
        "id": "RC03QdLRLJU4",
        "outputId": "2683cc87-55a9-4cf6-c4ac-7f1dadb4e218"
      },
      "execution_count": null,
      "outputs": [
        {
          "output_type": "execute_result",
          "data": {
            "text/plain": [
              "count    378078.000000\n",
              "mean          5.642364\n",
              "std           1.200443\n",
              "min           2.490000\n",
              "25%           4.850000\n",
              "50%           5.490000\n",
              "75%           6.650000\n",
              "max           9.650000\n",
              "Name: Valor de Venda, dtype: float64"
            ]
          },
          "metadata": {},
          "execution_count": 21
        }
      ]
    },
    {
      "cell_type": "code",
      "source": [
        "sns.boxplot(y=df_temp2[\"Valor de Venda\"])"
      ],
      "metadata": {
        "colab": {
          "base_uri": "https://localhost:8080/",
          "height": 433
        },
        "id": "sPEEnwZFLub4",
        "outputId": "25e45ca2-d7ca-465c-cd6f-455c51509624"
      },
      "execution_count": null,
      "outputs": [
        {
          "output_type": "execute_result",
          "data": {
            "text/plain": [
              "<Axes: ylabel='Valor de Venda'>"
            ]
          },
          "metadata": {},
          "execution_count": 22
        },
        {
          "output_type": "display_data",
          "data": {
            "text/plain": [
              "<Figure size 640x480 with 1 Axes>"
            ],
            "image/png": "[encoded data removed]"
          },
          "metadata": {}
        }
      ]
    }
  ]
}